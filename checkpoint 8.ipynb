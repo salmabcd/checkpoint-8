{
 "cells": [
  {
   "cell_type": "code",
   "execution_count": 7,
   "id": "6c44ccd8",
   "metadata": {},
   "outputs": [
    {
     "name": "stdout",
     "output_type": "stream",
     "text": [
      "What is Python language?                                                \n",
      "Python is a widely used high-level, general-purpose, interpreted, dynamic programming language.Its design philosophy emphasizes code readability, and its syntax allows programmers to express concepts in fewer lines of code than possible in \n",
      "languages such as C++ or Java. \n",
      "Python supports multiple programming paradigms, including object-oriented, imperative and functional programming or procedural styles. It features a dynamic type system and automatic memory management and has a large and comprehensive standard library.The best way we learn anything is by practice and exercise questions. We  have started this section for those (beginner to intermediate) who are familiar with Python.\n"
     ]
    }
   ],
   "source": [
    "#1\n",
    "python_file=open (\"python.txt\", \"r\")\n",
    "print (python_file.read())\n",
    "python_file.close()"
   ]
  },
  {
   "cell_type": "code",
   "execution_count": 10,
   "id": "5ad8df7a",
   "metadata": {},
   "outputs": [
    {
     "name": "stdout",
     "output_type": "stream",
     "text": [
      "What is Python language?                                                \n",
      "\n"
     ]
    }
   ],
   "source": [
    "#2\n",
    "a_file = open(\"python.txt\")\n",
    "print(a_file.readline())\n",
    "a_file.close()"
   ]
  },
  {
   "cell_type": "code",
   "execution_count": 17,
   "id": "7d711777",
   "metadata": {},
   "outputs": [
    {
     "name": "stdout",
     "output_type": "stream",
     "text": [
      "Python supports multiple programming paradigms, including object-oriented, imperative and functional programming or procedural styles. It features a dynamic type system and automatic memory management and has a large and comprehensive standard library.The best way we learn anything is by practice and exercise questions. We  have started this section for those (beginner to intermediate) who are familiar with Python.\n"
     ]
    }
   ],
   "source": [
    "#3\n",
    "file=open(\"python.txt\", \"r\")\n",
    "first_line = file.readline()\n",
    "for last_line in file:\n",
    "    pass\n",
    "print(last_line)\n",
    "file.close()"
   ]
  },
  {
   "cell_type": "code",
   "execution_count": 19,
   "id": "8c74386a",
   "metadata": {},
   "outputs": [
    {
     "name": "stdout",
     "output_type": "stream",
     "text": [
      "Number of words in text file : 100\n"
     ]
    }
   ],
   "source": [
    "#4\n",
    "file = open(\"python.txt\", \"r\")\n",
    "d = file.read()\n",
    "words = d.split()\n",
    "print('Number of words in text file :', len(words))\n",
    "file.close()"
   ]
  },
  {
   "cell_type": "code",
   "execution_count": null,
   "id": "13c7ba8c",
   "metadata": {},
   "outputs": [],
   "source": [
    "#5 \n",
    "file=open(\"python.txt\", \"r\")\n",
    "first_line = file.readline()\n",
    "for last_line in file:\n",
    "    pass\n",
    "print(last_line)\n",
    "file.close()"
   ]
  }
 ],
 "metadata": {
  "kernelspec": {
   "display_name": "Python 3",
   "language": "python",
   "name": "python3"
  },
  "language_info": {
   "codemirror_mode": {
    "name": "ipython",
    "version": 3
   },
   "file_extension": ".py",
   "mimetype": "text/x-python",
   "name": "python",
   "nbconvert_exporter": "python",
   "pygments_lexer": "ipython3",
   "version": "3.8.8"
  }
 },
 "nbformat": 4,
 "nbformat_minor": 5
}
